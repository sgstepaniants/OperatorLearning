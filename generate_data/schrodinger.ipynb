{
 "cells": [
  {
   "cell_type": "code",
   "execution_count": 1,
   "id": "17b8c1dc",
   "metadata": {},
   "outputs": [],
   "source": [
    "import math\n",
    "import numpy as np\n",
    "from scipy import sparse\n",
    "from scipy.sparse.linalg import spsolve\n",
    "\n",
    "def solve_schrodinger2D(bcs, L, m, potential):\n",
    "    # create grid\n",
    "    h = L / (m-1)\n",
    "    x = np.linspace(0, L, m)\n",
    "    y = np.linspace(0, L, m)\n",
    "    X, Y = np.meshgrid(x[1:m-1], y[1:m-1])\n",
    "    \n",
    "    # get potential\n",
    "    V = potential(X, Y)\n",
    "    \n",
    "    # get forcing\n",
    "    f = np.zeros((m-2, m-2))\n",
    "    \n",
    "    # build Hamiltonian\n",
    "    diag = np.ones(m-2)\n",
    "    diags = np.array([diag, -2*diag, diag])\n",
    "    D = sparse.spdiags(diags, np.array([-1, 0, 1]), m-2, m-2) / h**2\n",
    "    T = sparse.kronsum(D, D)\n",
    "    C = sparse.diags(V.reshape((m-2)**2), (0))\n",
    "    H = T - C\n",
    "    \n",
    "    # enforce the four boundary/gauge conditions\n",
    "    n = bcs.shape[1]\n",
    "    fs = np.repeat(f[:, :, np.newaxis], n, axis=2)\n",
    "    fs[0, :, :] += -bcs[1:m-1, :] / (h**2)\n",
    "    fs[:, -1, :] += -bcs[m:2*m-2, :] / (h**2)\n",
    "    fs[-1, :, :] += -np.flip(bcs[2*m-1:3*m-3, :], axis=0) / (h**2)\n",
    "    fs[:, 0, :] += -np.flip(bcs[3*m-2:4*m-4, :], axis=0) / (h**2)\n",
    "    fs = np.reshape(fs, [(m-2)**2, n])\n",
    "    \n",
    "    # solve for the solution\n",
    "    sols = spsolve(H, fs)\n",
    "    sols = np.reshape(sols, [m-2, m-2, n])\n",
    "    us = np.zeros([m, m, n])\n",
    "    us[1:m-1, 1:m-1, :] = sols\n",
    "    us[0, :, :] = bcs[0:m, :]\n",
    "    us[:, -1, :] = bcs[m-1:2*(m-1)+1, :]\n",
    "    us[-1, :, :] = np.flip(bcs[2*(m-1):3*(m-1)+1, :], axis=0)\n",
    "    us[:, 0, :] = np.flip(np.vstack([bcs[3*(m-1):4*(m-1), :], bcs[0, :]]), axis=0)\n",
    "    \n",
    "    return us"
   ]
  },
  {
   "cell_type": "code",
   "execution_count": 2,
   "id": "4fc24cd2",
   "metadata": {},
   "outputs": [],
   "source": [
    "from karhunen_loeve import general_radial_kle\n",
    "import sys\n",
    "sys.path.append(\"..\")\n",
    "from helper import hexagonal_potential\n",
    "\n",
    "potential = lambda x, y: hexagonal_potential(x, y, L=L, mag=1e3)\n",
    "\n",
    "# Schrödinger equation parameters\n",
    "L = 1\n",
    "\n",
    "# number of samples\n",
    "n = 500\n",
    "\n",
    "# width of radial kernel\n",
    "kernel_widths = [1e-2, 2.5e-2, 5e-2, 7.5e-2, 1e-1, 2.5e-1, 5e-1, 7.5e-1, 1.0, 2.5, 5.0, 7.5, 10.0]\n",
    "\n",
    "# mesh sizes for forcing and solution\n",
    "mesh_sizes = [50, 100, 200, 300, 400, 500]"
   ]
  },
  {
   "cell_type": "code",
   "execution_count": null,
   "id": "7f331e5e",
   "metadata": {},
   "outputs": [
    {
     "name": "stdout",
     "output_type": "stream",
     "text": [
      "Mesh Size: 50\n",
      "Mesh Size: 100\n",
      "Mesh Size: 200\n",
      "Mesh Size: 300\n"
     ]
    }
   ],
   "source": [
    "import h5py\n",
    "\n",
    "# generate exponential KLE forcing and solutions for heat equation\n",
    "file = h5py.File(\"schrodinger_exponentialperiodicKLE.hdf5\", \"a\")\n",
    "for m in mesh_sizes:\n",
    "    print(f\"Mesh Size: {m}\")\n",
    "    \n",
    "    mesh_grp = file.require_group(f\"mesh{m}\")\n",
    "    boundary_mesh = np.linspace(0, 4*L, 4*(m-1)+1)\n",
    "    x_mesh = np.linspace(0, L, m)\n",
    "    y_mesh = np.linspace(0, L, m)\n",
    "    mesh_grp.attrs[\"input_mesh\"] = boundary_mesh\n",
    "    mesh_grp.attrs[\"output_mesh\"] = (x_mesh, y_mesh)\n",
    "    \n",
    "    modes = m**2\n",
    "    for kernel_width in kernel_widths:\n",
    "        kernel_width_grp = mesh_grp.require_group(f\"kernelwidth{kernel_width}\")\n",
    "        kernel = lambda x: np.exp(-2*np.sin(math.pi*np.abs(x)/(4*L))**2/kernel_width**2)\n",
    "        fs = general_radial_kle((boundary_mesh,), n, modes, f=kernel).T\n",
    "        fs_dset = kernel_width_grp.create_dataset(\"forcings\", data=fs)\n",
    "\n",
    "        us = solve_schrodinger2D(fs.T, L, m, potential).reshape(m**2, -1).T\n",
    "        us_dset = kernel_width_grp.create_dataset(\"solutions\", data=us)\n",
    "\n",
    "file.close()\n",
    "del file"
   ]
  },
  {
   "cell_type": "code",
   "execution_count": null,
   "id": "1d66285c",
   "metadata": {},
   "outputs": [],
   "source": []
  }
 ],
 "metadata": {
  "kernelspec": {
   "display_name": "Python [conda env:root] *",
   "language": "python",
   "name": "conda-root-py"
  },
  "language_info": {
   "codemirror_mode": {
    "name": "ipython",
    "version": 3
   },
   "file_extension": ".py",
   "mimetype": "text/x-python",
   "name": "python",
   "nbconvert_exporter": "python",
   "pygments_lexer": "ipython3",
   "version": "3.8.13"
  },
  "latex_envs": {
   "LaTeX_envs_menu_present": true,
   "autoclose": false,
   "autocomplete": true,
   "bibliofile": "biblio.bib",
   "cite_by": "apalike",
   "current_citInitial": 1,
   "eqLabelWithNumbers": true,
   "eqNumInitial": 1,
   "hotkeys": {
    "equation": "Ctrl-E",
    "itemize": "Ctrl-I"
   },
   "labels_anchors": false,
   "latex_user_defs": false,
   "report_style_numbering": false,
   "user_envs_cfg": false
  },
  "toc": {
   "base_numbering": 1,
   "nav_menu": {},
   "number_sections": true,
   "sideBar": true,
   "skip_h1_title": false,
   "title_cell": "Table of Contents",
   "title_sidebar": "Contents",
   "toc_cell": false,
   "toc_position": {},
   "toc_section_display": true,
   "toc_window_display": false
  }
 },
 "nbformat": 4,
 "nbformat_minor": 5
}
