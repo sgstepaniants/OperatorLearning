{
  "cells": [
    {
      "cell_type": "code",
      "execution_count": 1,
      "metadata": {
        "collapsed": false
      },
      "outputs": [],
      "source": [
        "%matplotlib inline"
      ]
    },
    {
      "cell_type": "markdown",
      "metadata": {},
      "source": [
        "\n",
        "# Benchmarking Gaussian convolutions in high dimensions\n",
        "\n",
        "Let's compare the performances of PyTorch and KeOps on \n",
        "simple Gaussian RBF kernel products,\n",
        "as the dimension grows.\n",
        " \n",
        " \n"
      ]
    },
    {
      "cell_type": "markdown",
      "metadata": {},
      "source": [
        "## Setup\n",
        "\n"
      ]
    },
    {
      "cell_type": "code",
      "execution_count": 8,
      "metadata": {
        "collapsed": false
      },
      "outputs": [],
      "source": [
        "import importlib\n",
        "import os\n",
        "import time\n",
        "\n",
        "import numpy as np\n",
        "import torch\n",
        "from matplotlib import pyplot as plt\n",
        "\n",
        "from benchmark_utils import flatten, random_normal, full_benchmark\n",
        "\n",
        "use_cuda = torch.cuda.is_available()"
      ]
    },
    {
      "cell_type": "markdown",
      "metadata": {},
      "source": [
        "Benchmark specifications:\n",
        "\n",
        "\n"
      ]
    },
    {
      "cell_type": "code",
      "execution_count": 9,
      "metadata": {
        "collapsed": false
      },
      "outputs": [],
      "source": [
        "N = 10000  # Number of samples\n",
        "# Dimensions to test:\n",
        "Dims = [1, 3, 5, 10, 20, 30, 50, 80, 100, 120, 150, 200, 300, 500, 1000, 2000, 3000]"
      ]
    },
    {
      "cell_type": "markdown",
      "metadata": {},
      "source": [
        "Synthetic dataset.\n",
        "\n"
      ]
    },
    {
      "cell_type": "code",
      "execution_count": 10,
      "metadata": {
        "collapsed": false
      },
      "outputs": [],
      "source": [
        "def generate_samples(D, device=\"cuda\", lang=\"torch\", batchsize=1, **kwargs):\n",
        "    \"\"\"Generates two point clouds x, y and a scalar signal b of size N.\n",
        "\n",
        "    Args:\n",
        "        D (int): dimension of the ambient space.\n",
        "        device (str, optional): \"cuda\", \"cpu\", etc. Defaults to \"cuda\".\n",
        "        lang (str, optional): \"torch\", \"numpy\", etc. Defaults to \"torch\".\n",
        "        batchsize (int, optional): number of experiments to run in parallel. Defaults to None.\n",
        "\n",
        "    Returns:\n",
        "        3-uple of arrays: x, y, b\n",
        "    \"\"\"\n",
        "    randn = random_normal(device=device, lang=lang)\n",
        "\n",
        "    x = randn((batchsize, N, D))\n",
        "    y = randn((batchsize, N, D))\n",
        "    b = randn((batchsize, N, 1))\n",
        "\n",
        "    return x, y, b"
      ]
    },
    {
      "cell_type": "markdown",
      "metadata": {},
      "source": [
        "Define a simple Gaussian RBF product, using a **tensorized** implementation.\n",
        "Note that expanding the squared norm $\\|x-y\\|^2$ as a sum\n",
        "$\\|x\\|^2 - 2 \\langle x, y \\rangle + \\|y\\|^2$ allows us\n",
        "to leverage the fast matrix-matrix product of the BLAS/cuBLAS\n",
        "libraries.\n",
        "\n",
        "\n"
      ]
    },
    {
      "cell_type": "code",
      "execution_count": 11,
      "metadata": {
        "collapsed": false
      },
      "outputs": [],
      "source": [
        "def gaussianconv_pytorch(x, y, b, **kwargs):\n",
        "    \"\"\"(B,N,D), (B,N,D), (B,N,1) -> (B,N,1)\"\"\"\n",
        "\n",
        "    D_xx = (x * x).sum(-1).unsqueeze(2)  # (B,N,1)\n",
        "    D_xy = torch.matmul(x, y.permute(0, 2, 1))  # (B,N,D) @ (B,D,M) = (B,N,M)\n",
        "    D_yy = (y * y).sum(-1).unsqueeze(1)  # (B,1,M)\n",
        "    D_xy = D_xx - 2 * D_xy + D_yy  # (B,N,M)\n",
        "    K_xy = (-D_xy).exp()  # (B,N,M)\n",
        "\n",
        "    return K_xy @ b  # (B,N,1)"
      ]
    },
    {
      "cell_type": "markdown",
      "metadata": {},
      "source": [
        "Define a simple Gaussian RBF product, using an **online** implementation:\n",
        "\n",
        "\n"
      ]
    },
    {
      "cell_type": "code",
      "execution_count": 12,
      "metadata": {
        "collapsed": false
      },
      "outputs": [],
      "source": [
        "from pykeops.torch import generic_sum\n",
        "\n",
        "\n",
        "def gaussianconv_keops(x, y, b, backend=\"GPU\", **kwargs):\n",
        "    D = x.shape[-1]\n",
        "    fun = generic_sum(\n",
        "        \"Exp(X|Y) * B\",  # Formula\n",
        "        \"A = Vi(1)\",  # Output\n",
        "        \"X = Vi({})\".format(D),  # 1st argument\n",
        "        \"Y = Vj({})\".format(D),  # 2nd argument\n",
        "        \"B = Vj(1)\",  # 3rd argument\n",
        "    )\n",
        "    ex = (-(x * x).sum(-1)).exp()[:, :, None]\n",
        "    ey = (-(y * y).sum(-1)).exp()[:, :, None]\n",
        "    return ex * fun(2 * x, y, b * ey, backend=backend)"
      ]
    },
    {
      "cell_type": "markdown",
      "metadata": {},
      "source": [
        "Same, but without the chunked computation mode:\n",
        "\n",
        "\n"
      ]
    },
    {
      "cell_type": "code",
      "execution_count": 13,
      "metadata": {
        "collapsed": false
      },
      "outputs": [],
      "source": [
        "def gaussianconv_keops_nochunks(x, y, b, backend=\"GPU\", **kwargs):\n",
        "    D = x.shape[-1]\n",
        "    fun = generic_sum(\n",
        "        \"Exp(X|Y) * B\",  # Formula\n",
        "        \"A = Vi(1)\",  # Output\n",
        "        \"X = Vi({})\".format(D),  # 1st argument\n",
        "        \"Y = Vj({})\".format(D),  # 2nd argument\n",
        "        \"B = Vj(1)\",  # 3rd argument\n",
        "        enable_chunks=False,\n",
        "    )\n",
        "    ex = (-(x * x).sum(-1)).exp()[:, :, None]\n",
        "    ey = (-(y * y).sum(-1)).exp()[:, :, None]\n",
        "    return ex * fun(2 * x, y, b * ey, backend=backend)"
      ]
    },
    {
      "cell_type": "markdown",
      "metadata": {},
      "source": [
        "## PyTorch vs. KeOps (Gpu)\n",
        "\n"
      ]
    },
    {
      "cell_type": "code",
      "execution_count": 14,
      "metadata": {
        "collapsed": false
      },
      "outputs": [
        {
          "name": "stdout",
          "output_type": "stream",
          "text": [
            "Benchmarking : Gaussian Matrix-Vector products in high dimension, with N=10,000 (GPU) ===============================\n",
            "PyTorch (GPU) -------------\n"
          ]
        },
        {
          "ename": "AssertionError",
          "evalue": "Torch not compiled with CUDA enabled",
          "output_type": "error",
          "traceback": [
            "\u001b[0;31m---------------------------------------------------------------------------\u001b[0m",
            "\u001b[0;31mAssertionError\u001b[0m                            Traceback (most recent call last)",
            "\u001b[1;32m/Users/georgestepaniants/Research/OperatorLearning/examples/plot_benchmark_high_dimension.ipynb Cell 16'\u001b[0m in \u001b[0;36m<cell line: 7>\u001b[0;34m()\u001b[0m\n\u001b[1;32m      <a href='vscode-notebook-cell:/Users/georgestepaniants/Research/OperatorLearning/examples/plot_benchmark_high_dimension.ipynb#ch0000015?line=0'>1</a>\u001b[0m routines \u001b[39m=\u001b[39m [\n\u001b[1;32m      <a href='vscode-notebook-cell:/Users/georgestepaniants/Research/OperatorLearning/examples/plot_benchmark_high_dimension.ipynb#ch0000015?line=1'>2</a>\u001b[0m     (gaussianconv_pytorch, \u001b[39m\"\u001b[39m\u001b[39mPyTorch (GPU)\u001b[39m\u001b[39m\"\u001b[39m, {}),\n\u001b[1;32m      <a href='vscode-notebook-cell:/Users/georgestepaniants/Research/OperatorLearning/examples/plot_benchmark_high_dimension.ipynb#ch0000015?line=2'>3</a>\u001b[0m     (gaussianconv_keops_nochunks, \u001b[39m\"\u001b[39m\u001b[39mKeOps < 1.4.2 (GPU)\u001b[39m\u001b[39m\"\u001b[39m, {}),\n\u001b[1;32m      <a href='vscode-notebook-cell:/Users/georgestepaniants/Research/OperatorLearning/examples/plot_benchmark_high_dimension.ipynb#ch0000015?line=3'>4</a>\u001b[0m     (gaussianconv_keops, \u001b[39m\"\u001b[39m\u001b[39mKeOps >= 1.4.2 (GPU)\u001b[39m\u001b[39m\"\u001b[39m, {}),\n\u001b[1;32m      <a href='vscode-notebook-cell:/Users/georgestepaniants/Research/OperatorLearning/examples/plot_benchmark_high_dimension.ipynb#ch0000015?line=4'>5</a>\u001b[0m ]\n\u001b[0;32m----> <a href='vscode-notebook-cell:/Users/georgestepaniants/Research/OperatorLearning/examples/plot_benchmark_high_dimension.ipynb#ch0000015?line=6'>7</a>\u001b[0m full_benchmark(\n\u001b[1;32m      <a href='vscode-notebook-cell:/Users/georgestepaniants/Research/OperatorLearning/examples/plot_benchmark_high_dimension.ipynb#ch0000015?line=7'>8</a>\u001b[0m     \u001b[39mf\u001b[39;49m\u001b[39m\"\u001b[39;49m\u001b[39mGaussian Matrix-Vector products in high dimension, with N=\u001b[39;49m\u001b[39m{\u001b[39;49;00mN\u001b[39m:\u001b[39;49;00m\u001b[39m,\u001b[39;49m\u001b[39m}\u001b[39;49;00m\u001b[39m (GPU)\u001b[39;49m\u001b[39m\"\u001b[39;49m,\n\u001b[1;32m      <a href='vscode-notebook-cell:/Users/georgestepaniants/Research/OperatorLearning/examples/plot_benchmark_high_dimension.ipynb#ch0000015?line=8'>9</a>\u001b[0m     routines,\n\u001b[1;32m     <a href='vscode-notebook-cell:/Users/georgestepaniants/Research/OperatorLearning/examples/plot_benchmark_high_dimension.ipynb#ch0000015?line=9'>10</a>\u001b[0m     generate_samples,\n\u001b[1;32m     <a href='vscode-notebook-cell:/Users/georgestepaniants/Research/OperatorLearning/examples/plot_benchmark_high_dimension.ipynb#ch0000015?line=10'>11</a>\u001b[0m     problem_sizes\u001b[39m=\u001b[39;49mDims,\n\u001b[1;32m     <a href='vscode-notebook-cell:/Users/georgestepaniants/Research/OperatorLearning/examples/plot_benchmark_high_dimension.ipynb#ch0000015?line=11'>12</a>\u001b[0m     xlabel\u001b[39m=\u001b[39;49m\u001b[39m\"\u001b[39;49m\u001b[39mDimension of the points\u001b[39;49m\u001b[39m\"\u001b[39;49m,\n\u001b[1;32m     <a href='vscode-notebook-cell:/Users/georgestepaniants/Research/OperatorLearning/examples/plot_benchmark_high_dimension.ipynb#ch0000015?line=12'>13</a>\u001b[0m )\n\u001b[1;32m     <a href='vscode-notebook-cell:/Users/georgestepaniants/Research/OperatorLearning/examples/plot_benchmark_high_dimension.ipynb#ch0000015?line=15'>16</a>\u001b[0m plt\u001b[39m.\u001b[39mshow()\n",
            "File \u001b[0;32m~/Research/OperatorLearning/examples/benchmark_utils.py:409\u001b[0m, in \u001b[0;36mfull_benchmark\u001b[0;34m(to_plot, routines, generate_samples, problem_sizes, min_time, max_time, red_time, loops, xlabel, ylabel, frequency, legend_location, linestyles)\u001b[0m\n\u001b[1;32m    <a href='file:///Users/georgestepaniants/Research/OperatorLearning/examples/benchmark_utils.py?line=404'>405</a>\u001b[0m \u001b[39mprint\u001b[39m(\u001b[39m\"\u001b[39m\u001b[39mBenchmarking : \u001b[39m\u001b[39m{}\u001b[39;00m\u001b[39m ===============================\u001b[39m\u001b[39m\"\u001b[39m\u001b[39m.\u001b[39mformat(to_plot))\n\u001b[1;32m    <a href='file:///Users/georgestepaniants/Research/OperatorLearning/examples/benchmark_utils.py?line=406'>407</a>\u001b[0m labels \u001b[39m=\u001b[39m [label \u001b[39mfor\u001b[39;00m (_, label, _) \u001b[39min\u001b[39;00m routines]\n\u001b[0;32m--> <a href='file:///Users/georgestepaniants/Research/OperatorLearning/examples/benchmark_utils.py?line=408'>409</a>\u001b[0m lines \u001b[39m=\u001b[39m [problem_sizes] \u001b[39m+\u001b[39m [\n\u001b[1;32m    <a href='file:///Users/georgestepaniants/Research/OperatorLearning/examples/benchmark_utils.py?line=409'>410</a>\u001b[0m     bench_config(\n\u001b[1;32m    <a href='file:///Users/georgestepaniants/Research/OperatorLearning/examples/benchmark_utils.py?line=410'>411</a>\u001b[0m         \u001b[39m*\u001b[39mroutine,\n\u001b[1;32m    <a href='file:///Users/georgestepaniants/Research/OperatorLearning/examples/benchmark_utils.py?line=411'>412</a>\u001b[0m         generate_samples\u001b[39m=\u001b[39mgenerate_samples,\n\u001b[1;32m    <a href='file:///Users/georgestepaniants/Research/OperatorLearning/examples/benchmark_utils.py?line=412'>413</a>\u001b[0m         problem_sizes\u001b[39m=\u001b[39mproblem_sizes,\n\u001b[1;32m    <a href='file:///Users/georgestepaniants/Research/OperatorLearning/examples/benchmark_utils.py?line=413'>414</a>\u001b[0m         max_time\u001b[39m=\u001b[39mmax_time,\n\u001b[1;32m    <a href='file:///Users/georgestepaniants/Research/OperatorLearning/examples/benchmark_utils.py?line=414'>415</a>\u001b[0m         red_time\u001b[39m=\u001b[39mred_time,\n\u001b[1;32m    <a href='file:///Users/georgestepaniants/Research/OperatorLearning/examples/benchmark_utils.py?line=415'>416</a>\u001b[0m         loops\u001b[39m=\u001b[39mloops,\n\u001b[1;32m    <a href='file:///Users/georgestepaniants/Research/OperatorLearning/examples/benchmark_utils.py?line=416'>417</a>\u001b[0m     )\n\u001b[1;32m    <a href='file:///Users/georgestepaniants/Research/OperatorLearning/examples/benchmark_utils.py?line=417'>418</a>\u001b[0m     \u001b[39mfor\u001b[39;00m routine \u001b[39min\u001b[39;00m routines\n\u001b[1;32m    <a href='file:///Users/georgestepaniants/Research/OperatorLearning/examples/benchmark_utils.py?line=418'>419</a>\u001b[0m ]\n\u001b[1;32m    <a href='file:///Users/georgestepaniants/Research/OperatorLearning/examples/benchmark_utils.py?line=419'>420</a>\u001b[0m benches \u001b[39m=\u001b[39m np\u001b[39m.\u001b[39marray(lines)\u001b[39m.\u001b[39mT\n\u001b[1;32m    <a href='file:///Users/georgestepaniants/Research/OperatorLearning/examples/benchmark_utils.py?line=421'>422</a>\u001b[0m \u001b[39m# Creates a pyplot figure:\u001b[39;00m\n",
            "File \u001b[0;32m~/Research/OperatorLearning/examples/benchmark_utils.py:410\u001b[0m, in \u001b[0;36m<listcomp>\u001b[0;34m(.0)\u001b[0m\n\u001b[1;32m    <a href='file:///Users/georgestepaniants/Research/OperatorLearning/examples/benchmark_utils.py?line=404'>405</a>\u001b[0m \u001b[39mprint\u001b[39m(\u001b[39m\"\u001b[39m\u001b[39mBenchmarking : \u001b[39m\u001b[39m{}\u001b[39;00m\u001b[39m ===============================\u001b[39m\u001b[39m\"\u001b[39m\u001b[39m.\u001b[39mformat(to_plot))\n\u001b[1;32m    <a href='file:///Users/georgestepaniants/Research/OperatorLearning/examples/benchmark_utils.py?line=406'>407</a>\u001b[0m labels \u001b[39m=\u001b[39m [label \u001b[39mfor\u001b[39;00m (_, label, _) \u001b[39min\u001b[39;00m routines]\n\u001b[1;32m    <a href='file:///Users/georgestepaniants/Research/OperatorLearning/examples/benchmark_utils.py?line=408'>409</a>\u001b[0m lines \u001b[39m=\u001b[39m [problem_sizes] \u001b[39m+\u001b[39m [\n\u001b[0;32m--> <a href='file:///Users/georgestepaniants/Research/OperatorLearning/examples/benchmark_utils.py?line=409'>410</a>\u001b[0m     bench_config(\n\u001b[1;32m    <a href='file:///Users/georgestepaniants/Research/OperatorLearning/examples/benchmark_utils.py?line=410'>411</a>\u001b[0m         \u001b[39m*\u001b[39;49mroutine,\n\u001b[1;32m    <a href='file:///Users/georgestepaniants/Research/OperatorLearning/examples/benchmark_utils.py?line=411'>412</a>\u001b[0m         generate_samples\u001b[39m=\u001b[39;49mgenerate_samples,\n\u001b[1;32m    <a href='file:///Users/georgestepaniants/Research/OperatorLearning/examples/benchmark_utils.py?line=412'>413</a>\u001b[0m         problem_sizes\u001b[39m=\u001b[39;49mproblem_sizes,\n\u001b[1;32m    <a href='file:///Users/georgestepaniants/Research/OperatorLearning/examples/benchmark_utils.py?line=413'>414</a>\u001b[0m         max_time\u001b[39m=\u001b[39;49mmax_time,\n\u001b[1;32m    <a href='file:///Users/georgestepaniants/Research/OperatorLearning/examples/benchmark_utils.py?line=414'>415</a>\u001b[0m         red_time\u001b[39m=\u001b[39;49mred_time,\n\u001b[1;32m    <a href='file:///Users/georgestepaniants/Research/OperatorLearning/examples/benchmark_utils.py?line=415'>416</a>\u001b[0m         loops\u001b[39m=\u001b[39;49mloops,\n\u001b[1;32m    <a href='file:///Users/georgestepaniants/Research/OperatorLearning/examples/benchmark_utils.py?line=416'>417</a>\u001b[0m     )\n\u001b[1;32m    <a href='file:///Users/georgestepaniants/Research/OperatorLearning/examples/benchmark_utils.py?line=417'>418</a>\u001b[0m     \u001b[39mfor\u001b[39;00m routine \u001b[39min\u001b[39;00m routines\n\u001b[1;32m    <a href='file:///Users/georgestepaniants/Research/OperatorLearning/examples/benchmark_utils.py?line=418'>419</a>\u001b[0m ]\n\u001b[1;32m    <a href='file:///Users/georgestepaniants/Research/OperatorLearning/examples/benchmark_utils.py?line=419'>420</a>\u001b[0m benches \u001b[39m=\u001b[39m np\u001b[39m.\u001b[39marray(lines)\u001b[39m.\u001b[39mT\n\u001b[1;32m    <a href='file:///Users/georgestepaniants/Research/OperatorLearning/examples/benchmark_utils.py?line=421'>422</a>\u001b[0m \u001b[39m# Creates a pyplot figure:\u001b[39;00m\n",
            "File \u001b[0;32m~/Research/OperatorLearning/examples/benchmark_utils.py:322\u001b[0m, in \u001b[0;36mbench_config\u001b[0;34m(routine, label, kwargs, generate_samples, problem_sizes, max_time, red_time, loops)\u001b[0m\n\u001b[1;32m    <a href='file:///Users/georgestepaniants/Research/OperatorLearning/examples/benchmark_utils.py?line=318'>319</a>\u001b[0m nloops \u001b[39m=\u001b[39m Nloops\u001b[39m.\u001b[39mpop(\u001b[39m0\u001b[39m)\n\u001b[1;32m    <a href='file:///Users/georgestepaniants/Research/OperatorLearning/examples/benchmark_utils.py?line=319'>320</a>\u001b[0m \u001b[39mfor\u001b[39;00m n \u001b[39min\u001b[39;00m problem_sizes:\n\u001b[0;32m--> <a href='file:///Users/georgestepaniants/Research/OperatorLearning/examples/benchmark_utils.py?line=321'>322</a>\u001b[0m     elapsed \u001b[39m=\u001b[39m benchmark(\n\u001b[1;32m    <a href='file:///Users/georgestepaniants/Research/OperatorLearning/examples/benchmark_utils.py?line=322'>323</a>\u001b[0m         routine,\n\u001b[1;32m    <a href='file:///Users/georgestepaniants/Research/OperatorLearning/examples/benchmark_utils.py?line=323'>324</a>\u001b[0m         label,\n\u001b[1;32m    <a href='file:///Users/georgestepaniants/Research/OperatorLearning/examples/benchmark_utils.py?line=324'>325</a>\u001b[0m         n,\n\u001b[1;32m    <a href='file:///Users/georgestepaniants/Research/OperatorLearning/examples/benchmark_utils.py?line=325'>326</a>\u001b[0m         max_time,\n\u001b[1;32m    <a href='file:///Users/georgestepaniants/Research/OperatorLearning/examples/benchmark_utils.py?line=326'>327</a>\u001b[0m         loops\u001b[39m=\u001b[39;49mnloops,\n\u001b[1;32m    <a href='file:///Users/georgestepaniants/Research/OperatorLearning/examples/benchmark_utils.py?line=327'>328</a>\u001b[0m         generate_samples\u001b[39m=\u001b[39;49mgenerate_samples,\n\u001b[1;32m    <a href='file:///Users/georgestepaniants/Research/OperatorLearning/examples/benchmark_utils.py?line=328'>329</a>\u001b[0m         \u001b[39m*\u001b[39;49m\u001b[39m*\u001b[39;49mkwargs,\n\u001b[1;32m    <a href='file:///Users/georgestepaniants/Research/OperatorLearning/examples/benchmark_utils.py?line=329'>330</a>\u001b[0m     )\n\u001b[1;32m    <a href='file:///Users/georgestepaniants/Research/OperatorLearning/examples/benchmark_utils.py?line=331'>332</a>\u001b[0m     times\u001b[39m.\u001b[39mappend(elapsed)\n\u001b[1;32m    <a href='file:///Users/georgestepaniants/Research/OperatorLearning/examples/benchmark_utils.py?line=332'>333</a>\u001b[0m     \u001b[39mif\u001b[39;00m (nloops \u001b[39m*\u001b[39m elapsed \u001b[39m>\u001b[39m max_time) \u001b[39mor\u001b[39;00m (\n\u001b[1;32m    <a href='file:///Users/georgestepaniants/Research/OperatorLearning/examples/benchmark_utils.py?line=333'>334</a>\u001b[0m         nloops \u001b[39m*\u001b[39m elapsed \u001b[39m>\u001b[39m red_time \u001b[39mand\u001b[39;00m \u001b[39mlen\u001b[39m(Nloops) \u001b[39m>\u001b[39m \u001b[39m0\u001b[39m\n\u001b[1;32m    <a href='file:///Users/georgestepaniants/Research/OperatorLearning/examples/benchmark_utils.py?line=334'>335</a>\u001b[0m     ):\n",
            "File \u001b[0;32m~/Research/OperatorLearning/examples/benchmark_utils.py:292\u001b[0m, in \u001b[0;36mbenchmark\u001b[0;34m(routine, label, N, max_time, loops, generate_samples, **kwargs)\u001b[0m\n\u001b[1;32m    <a href='file:///Users/georgestepaniants/Research/OperatorLearning/examples/benchmark_utils.py?line=280'>281</a>\u001b[0m \u001b[39mdef\u001b[39;00m \u001b[39mbenchmark\u001b[39m(\n\u001b[1;32m    <a href='file:///Users/georgestepaniants/Research/OperatorLearning/examples/benchmark_utils.py?line=281'>282</a>\u001b[0m     routine,\n\u001b[1;32m    <a href='file:///Users/georgestepaniants/Research/OperatorLearning/examples/benchmark_utils.py?line=282'>283</a>\u001b[0m     label,\n\u001b[0;32m   (...)\u001b[0m\n\u001b[1;32m    <a href='file:///Users/georgestepaniants/Research/OperatorLearning/examples/benchmark_utils.py?line=287'>288</a>\u001b[0m     \u001b[39m*\u001b[39m\u001b[39m*\u001b[39mkwargs,\n\u001b[1;32m    <a href='file:///Users/georgestepaniants/Research/OperatorLearning/examples/benchmark_utils.py?line=288'>289</a>\u001b[0m ):\n\u001b[1;32m    <a href='file:///Users/georgestepaniants/Research/OperatorLearning/examples/benchmark_utils.py?line=290'>291</a>\u001b[0m     importlib\u001b[39m.\u001b[39mreload(torch)  \u001b[39m# In case we had a memory overflow just before...\u001b[39;00m\n\u001b[0;32m--> <a href='file:///Users/georgestepaniants/Research/OperatorLearning/examples/benchmark_utils.py?line=291'>292</a>\u001b[0m     args \u001b[39m=\u001b[39m generate_samples(N, \u001b[39m*\u001b[39;49m\u001b[39m*\u001b[39;49mkwargs)\n\u001b[1;32m    <a href='file:///Users/georgestepaniants/Research/OperatorLearning/examples/benchmark_utils.py?line=293'>294</a>\u001b[0m     benchmark_loop \u001b[39m=\u001b[39m train_test_loop \u001b[39mif\u001b[39;00m \u001b[39mtype\u001b[39m(args) \u001b[39mis\u001b[39;00m \u001b[39mdict\u001b[39m \u001b[39melse\u001b[39;00m simple_loop\n\u001b[1;32m    <a href='file:///Users/georgestepaniants/Research/OperatorLearning/examples/benchmark_utils.py?line=295'>296</a>\u001b[0m     \u001b[39m# Actual benchmark:\u001b[39;00m\n",
            "\u001b[1;32m/Users/georgestepaniants/Research/OperatorLearning/examples/plot_benchmark_high_dimension.ipynb Cell 8'\u001b[0m in \u001b[0;36mgenerate_samples\u001b[0;34m(D, device, lang, batchsize, **kwargs)\u001b[0m\n\u001b[1;32m      <a href='vscode-notebook-cell:/Users/georgestepaniants/Research/OperatorLearning/examples/plot_benchmark_high_dimension.ipynb#ch0000007?line=1'>2</a>\u001b[0m \u001b[39m\"\"\"Generates two point clouds x, y and a scalar signal b of size N.\u001b[39;00m\n\u001b[1;32m      <a href='vscode-notebook-cell:/Users/georgestepaniants/Research/OperatorLearning/examples/plot_benchmark_high_dimension.ipynb#ch0000007?line=2'>3</a>\u001b[0m \n\u001b[1;32m      <a href='vscode-notebook-cell:/Users/georgestepaniants/Research/OperatorLearning/examples/plot_benchmark_high_dimension.ipynb#ch0000007?line=3'>4</a>\u001b[0m \u001b[39mArgs:\u001b[39;00m\n\u001b[0;32m   (...)\u001b[0m\n\u001b[1;32m     <a href='vscode-notebook-cell:/Users/georgestepaniants/Research/OperatorLearning/examples/plot_benchmark_high_dimension.ipynb#ch0000007?line=10'>11</a>\u001b[0m \u001b[39m    3-uple of arrays: x, y, b\u001b[39;00m\n\u001b[1;32m     <a href='vscode-notebook-cell:/Users/georgestepaniants/Research/OperatorLearning/examples/plot_benchmark_high_dimension.ipynb#ch0000007?line=11'>12</a>\u001b[0m \u001b[39m\"\"\"\u001b[39;00m\n\u001b[1;32m     <a href='vscode-notebook-cell:/Users/georgestepaniants/Research/OperatorLearning/examples/plot_benchmark_high_dimension.ipynb#ch0000007?line=12'>13</a>\u001b[0m randn \u001b[39m=\u001b[39m random_normal(device\u001b[39m=\u001b[39mdevice, lang\u001b[39m=\u001b[39mlang)\n\u001b[0;32m---> <a href='vscode-notebook-cell:/Users/georgestepaniants/Research/OperatorLearning/examples/plot_benchmark_high_dimension.ipynb#ch0000007?line=14'>15</a>\u001b[0m x \u001b[39m=\u001b[39m randn((batchsize, N, D))\n\u001b[1;32m     <a href='vscode-notebook-cell:/Users/georgestepaniants/Research/OperatorLearning/examples/plot_benchmark_high_dimension.ipynb#ch0000007?line=15'>16</a>\u001b[0m y \u001b[39m=\u001b[39m randn((batchsize, N, D))\n\u001b[1;32m     <a href='vscode-notebook-cell:/Users/georgestepaniants/Research/OperatorLearning/examples/plot_benchmark_high_dimension.ipynb#ch0000007?line=16'>17</a>\u001b[0m b \u001b[39m=\u001b[39m randn((batchsize, N, \u001b[39m1\u001b[39m))\n",
            "File \u001b[0;32m~/Research/OperatorLearning/examples/benchmark_utils.py:107\u001b[0m, in \u001b[0;36mrandom_normal.<locals>.sampler\u001b[0;34m(shape)\u001b[0m\n\u001b[1;32m    <a href='file:///Users/georgestepaniants/Research/OperatorLearning/examples/benchmark_utils.py?line=104'>105</a>\u001b[0m \u001b[39mdef\u001b[39;00m \u001b[39msampler\u001b[39m(shape):\n\u001b[1;32m    <a href='file:///Users/georgestepaniants/Research/OperatorLearning/examples/benchmark_utils.py?line=105'>106</a>\u001b[0m     \u001b[39mif\u001b[39;00m lang \u001b[39m==\u001b[39m \u001b[39m\"\u001b[39m\u001b[39mtorch\u001b[39m\u001b[39m\"\u001b[39m:\n\u001b[0;32m--> <a href='file:///Users/georgestepaniants/Research/OperatorLearning/examples/benchmark_utils.py?line=106'>107</a>\u001b[0m         \u001b[39mreturn\u001b[39;00m torch\u001b[39m.\u001b[39;49mrandn(shape, device\u001b[39m=\u001b[39;49mtorch\u001b[39m.\u001b[39;49mdevice(device))\n\u001b[1;32m    <a href='file:///Users/georgestepaniants/Research/OperatorLearning/examples/benchmark_utils.py?line=107'>108</a>\u001b[0m     \u001b[39melse\u001b[39;00m:\n\u001b[1;32m    <a href='file:///Users/georgestepaniants/Research/OperatorLearning/examples/benchmark_utils.py?line=108'>109</a>\u001b[0m         \u001b[39mreturn\u001b[39;00m np\u001b[39m.\u001b[39mrandom\u001b[39m.\u001b[39mrand(\u001b[39m*\u001b[39mshape)\u001b[39m.\u001b[39mastype(\u001b[39m\"\u001b[39m\u001b[39mfloat32\u001b[39m\u001b[39m\"\u001b[39m)\n",
            "File \u001b[0;32m~/opt/anaconda3/envs/keops/lib/python3.10/site-packages/torch/cuda/__init__.py:210\u001b[0m, in \u001b[0;36m_lazy_init\u001b[0;34m()\u001b[0m\n\u001b[1;32m    <a href='file:///Users/georgestepaniants/opt/anaconda3/envs/keops/lib/python3.10/site-packages/torch/cuda/__init__.py?line=205'>206</a>\u001b[0m     \u001b[39mraise\u001b[39;00m \u001b[39mRuntimeError\u001b[39;00m(\n\u001b[1;32m    <a href='file:///Users/georgestepaniants/opt/anaconda3/envs/keops/lib/python3.10/site-packages/torch/cuda/__init__.py?line=206'>207</a>\u001b[0m         \u001b[39m\"\u001b[39m\u001b[39mCannot re-initialize CUDA in forked subprocess. To use CUDA with \u001b[39m\u001b[39m\"\u001b[39m\n\u001b[1;32m    <a href='file:///Users/georgestepaniants/opt/anaconda3/envs/keops/lib/python3.10/site-packages/torch/cuda/__init__.py?line=207'>208</a>\u001b[0m         \u001b[39m\"\u001b[39m\u001b[39mmultiprocessing, you must use the \u001b[39m\u001b[39m'\u001b[39m\u001b[39mspawn\u001b[39m\u001b[39m'\u001b[39m\u001b[39m start method\u001b[39m\u001b[39m\"\u001b[39m)\n\u001b[1;32m    <a href='file:///Users/georgestepaniants/opt/anaconda3/envs/keops/lib/python3.10/site-packages/torch/cuda/__init__.py?line=208'>209</a>\u001b[0m \u001b[39mif\u001b[39;00m \u001b[39mnot\u001b[39;00m \u001b[39mhasattr\u001b[39m(torch\u001b[39m.\u001b[39m_C, \u001b[39m'\u001b[39m\u001b[39m_cuda_getDeviceCount\u001b[39m\u001b[39m'\u001b[39m):\n\u001b[0;32m--> <a href='file:///Users/georgestepaniants/opt/anaconda3/envs/keops/lib/python3.10/site-packages/torch/cuda/__init__.py?line=209'>210</a>\u001b[0m     \u001b[39mraise\u001b[39;00m \u001b[39mAssertionError\u001b[39;00m(\u001b[39m\"\u001b[39m\u001b[39mTorch not compiled with CUDA enabled\u001b[39m\u001b[39m\"\u001b[39m)\n\u001b[1;32m    <a href='file:///Users/georgestepaniants/opt/anaconda3/envs/keops/lib/python3.10/site-packages/torch/cuda/__init__.py?line=210'>211</a>\u001b[0m \u001b[39mif\u001b[39;00m _cudart \u001b[39mis\u001b[39;00m \u001b[39mNone\u001b[39;00m:\n\u001b[1;32m    <a href='file:///Users/georgestepaniants/opt/anaconda3/envs/keops/lib/python3.10/site-packages/torch/cuda/__init__.py?line=211'>212</a>\u001b[0m     \u001b[39mraise\u001b[39;00m \u001b[39mAssertionError\u001b[39;00m(\n\u001b[1;32m    <a href='file:///Users/georgestepaniants/opt/anaconda3/envs/keops/lib/python3.10/site-packages/torch/cuda/__init__.py?line=212'>213</a>\u001b[0m         \u001b[39m\"\u001b[39m\u001b[39mlibcudart functions unavailable. It looks like you have a broken build?\u001b[39m\u001b[39m\"\u001b[39m)\n",
            "\u001b[0;31mAssertionError\u001b[0m: Torch not compiled with CUDA enabled"
          ]
        }
      ],
      "source": [
        "routines = [\n",
        "    (gaussianconv_pytorch, \"PyTorch (GPU)\", {}),\n",
        "    (gaussianconv_keops_nochunks, \"KeOps < 1.4.2 (GPU)\", {}),\n",
        "    (gaussianconv_keops, \"KeOps >= 1.4.2 (GPU)\", {}),\n",
        "]\n",
        "\n",
        "full_benchmark(\n",
        "    f\"Gaussian Matrix-Vector products in high dimension, with N={N:,} (GPU)\",\n",
        "    routines,\n",
        "    generate_samples,\n",
        "    problem_sizes=Dims,\n",
        "    xlabel=\"Dimension of the points\",\n",
        ")\n",
        "\n",
        "\n",
        "plt.show()"
      ]
    },
    {
      "cell_type": "code",
      "execution_count": 1,
      "metadata": {},
      "outputs": [],
      "source": []
    }
  ],
  "metadata": {
    "interpreter": {
      "hash": "e6a1c564f77d6afd7c6b9dec2a20de677109c3902299ee52794187a2bb0623bd"
    },
    "kernelspec": {
      "display_name": "Python 3.10.4 ('keops')",
      "language": "python",
      "name": "python3"
    },
    "language_info": {
      "codemirror_mode": {
        "name": "ipython",
        "version": 3
      },
      "file_extension": ".py",
      "mimetype": "text/x-python",
      "name": "python",
      "nbconvert_exporter": "python",
      "pygments_lexer": "ipython3",
      "version": "3.10.4"
    }
  },
  "nbformat": 4,
  "nbformat_minor": 0
}
